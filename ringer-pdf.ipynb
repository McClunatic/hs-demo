{
 "cells": [
  {
   "cell_type": "markdown",
   "metadata": {},
   "source": [
    "# Logging\n",
    "\n",
    "We configure how logging messages should be displayed and which log level should be used before importing Haystack. Example log message: INFO - haystack.utils.preprocessing - Converting data/tutorial1/218_Olenna_Tyrell.txt Default log level in basicConfig is WARNING so the explicit parameter is not necessary but can be changed easily:"
   ]
  },
  {
   "cell_type": "code",
   "execution_count": 1,
   "metadata": {},
   "outputs": [],
   "source": [
    "import logging\n",
    "\n",
    "logging.basicConfig(format=\"%(levelname)s - %(name)s -  %(message)s\", level=logging.WARNING)\n",
    "logging.getLogger(\"haystack\").setLevel(logging.INFO)"
   ]
  },
  {
   "cell_type": "markdown",
   "metadata": {},
   "source": [
    "# Building a per-document query function\n",
    "\n",
    "Rather than querying from a large document store, this notebook\n",
    "explores the use case where queries need to be made against a\n",
    "*specific* document. We'll build single-document document stores,\n",
    "and then retrievers, readers, and pipelines as normal."
   ]
  },
  {
   "cell_type": "code",
   "execution_count": 2,
   "metadata": {},
   "outputs": [
    {
     "name": "stderr",
     "output_type": "stream",
     "text": [
      "INFO - haystack.utils.preprocessing -  Converting data\\theringer-pdf\\robert-sarver-phoenix-suns-suspension.pdf\n",
      "INFO - haystack.utils.preprocessing -  Converting data\\theringer-pdf\\small-market-teams-are-paying-big-prices-to-go-all-in.pdf\n"
     ]
    }
   ],
   "source": [
    "from haystack.document_stores import InMemoryDocumentStore\n",
    "from haystack.utils import convert_files_to_docs\n",
    "from haystack.nodes import TfidfRetriever\n",
    "from haystack.nodes import FARMReader\n",
    "from haystack.pipelines import ExtractiveQAPipeline\n",
    "\n",
    "doc_dir = 'data/theringer-pdf'\n",
    "\n",
    "docs = convert_files_to_docs(dir_path=doc_dir, split_paragraphs=True)"
   ]
  },
  {
   "cell_type": "code",
   "execution_count": 3,
   "metadata": {},
   "outputs": [],
   "source": [
    "def run_query(documents, query, params=None):\n",
    "\n",
    "    # Create in-memory document store\n",
    "    document_store = InMemoryDocumentStore()\n",
    "    document_store.write_documents(documents)\n",
    "\n",
    "    # Create retriever against document store\n",
    "    retriever = TfidfRetriever(document_store=document_store)\n",
    "\n",
    "    # Load a local model or any of the QA models on\n",
    "    # Hugging Face's model hub (https://huggingface.co/models)\n",
    "    reader = FARMReader(model_name_or_path=\"deepset/roberta-base-squad2\", use_gpu=True)\n",
    "\n",
    "    # Construct an extractive QA pipeline and run the query\n",
    "    pipe = ExtractiveQAPipeline(reader, retriever)\n",
    "    return pipe.run(query=query, params=params)"
   ]
  },
  {
   "cell_type": "markdown",
   "metadata": {},
   "source": [
    "# Voilà! Ask questions!"
   ]
  },
  {
   "cell_type": "code",
   "execution_count": 4,
   "metadata": {},
   "outputs": [
    {
     "name": "stderr",
     "output_type": "stream",
     "text": [
      "INFO - haystack.modeling.utils -  Using devices: CUDA:0\n",
      "INFO - haystack.modeling.utils -  Number of GPUs: 1\n",
      "INFO - haystack.nodes.retriever.sparse -  Found 1 candidate paragraphs from 1 docs in DB\n",
      "INFO - haystack.modeling.utils -  Using devices: CUDA:0\n",
      "INFO - haystack.modeling.utils -  Number of GPUs: 1\n",
      "INFO - haystack.modeling.model.language_model -   * LOADING MODEL: 'deepset/roberta-base-squad2' (Roberta)\n",
      "INFO - haystack.modeling.model.language_model -  Auto-detected model language: english\n",
      "INFO - haystack.modeling.model.language_model -  Loaded 'deepset/roberta-base-squad2' (Roberta model) from model hub.\n",
      "INFO - haystack.modeling.utils -  Using devices: CUDA\n",
      "INFO - haystack.modeling.utils -  Number of GPUs: 1\n",
      "INFO - haystack.modeling.infer -  Got ya 15 parallel workers to do inference ...\n",
      "INFO - haystack.modeling.infer -   0     0     0     0     0     0     0     0     0     0     0     0     0     0     0  \n",
      "INFO - haystack.modeling.infer -  /w\\   /w\\   /w\\   /w\\   /w\\   /w\\   /w\\   /|\\   /w\\   /w\\   /w\\   /w\\   /w\\   /w\\   /|\\ \n",
      "INFO - haystack.modeling.infer -  /'\\   / \\   /'\\   /'\\   / \\   / \\   /'\\   /'\\   /'\\   /'\\   /'\\   /'\\   / \\   /'\\   /'\\ \n",
      "Inferencing Samples: 100%|██████████| 1/1 [00:03<00:00,  3.89s/ Batches]\n",
      "INFO - haystack.modeling.utils -  Using devices: CUDA:0\n",
      "INFO - haystack.modeling.utils -  Number of GPUs: 1\n",
      "INFO - haystack.nodes.retriever.sparse -  Found 1 candidate paragraphs from 1 docs in DB\n",
      "INFO - haystack.modeling.utils -  Using devices: CUDA:0\n",
      "INFO - haystack.modeling.utils -  Number of GPUs: 1\n"
     ]
    },
    {
     "name": "stdout",
     "output_type": "stream",
     "text": [
      "\n",
      "Query: How long is Robert Sarver suspended for?\n",
      "Answers:\n",
      "[   {   'answer': 'a year',\n",
      "        'context': 'and former Suns\\n'\n",
      "                   'employeesâ€”was to suspend Sarver from NBA activity for a '\n",
      "                   'year, fine him $10 million (a fraction of his\\n'\n",
      "                   'net worth), and require that h'},\n",
      "    {   'answer': 'one-year',\n",
      "        'context': ' over an 18-year term for anyone who\\n'\n",
      "                   'cares to look at the sum of it.\\n'\n",
      "                   'A one-year suspension is nothing; a mandated course is '\n",
      "                   'less than that. If the goa'},\n",
      "    {   'answer': 'life',\n",
      "        'context': 'hose recordings coming to light, Sterling was banned from '\n",
      "                   'the league for life.\\n'\n",
      "                   'By June, Sarverâ€”whose repeated use of the N-word '\n",
      "                   'demanded an entire d'}]\n"
     ]
    },
    {
     "name": "stderr",
     "output_type": "stream",
     "text": [
      "INFO - haystack.modeling.model.language_model -   * LOADING MODEL: 'deepset/roberta-base-squad2' (Roberta)\n",
      "INFO - haystack.modeling.model.language_model -  Auto-detected model language: english\n",
      "INFO - haystack.modeling.model.language_model -  Loaded 'deepset/roberta-base-squad2' (Roberta model) from model hub.\n",
      "INFO - haystack.modeling.utils -  Using devices: CUDA\n",
      "INFO - haystack.modeling.utils -  Number of GPUs: 1\n",
      "INFO - haystack.modeling.infer -  Got ya 15 parallel workers to do inference ...\n",
      "INFO - haystack.modeling.infer -   0     0     0     0     0     0     0     0     0     0     0     0     0     0     0  \n",
      "INFO - haystack.modeling.infer -  /w\\   /w\\   /w\\   /w\\   /w\\   /w\\   /w\\   /|\\   /w\\   /w\\   /w\\   /w\\   /w\\   /w\\   /|\\ \n",
      "INFO - haystack.modeling.infer -  /'\\   / \\   /'\\   /'\\   / \\   / \\   /'\\   /'\\   /'\\   /'\\   /'\\   /'\\   / \\   /'\\   /'\\ \n",
      "Inferencing Samples: 100%|██████████| 1/1 [00:00<00:00,  2.51 Batches/s]"
     ]
    },
    {
     "name": "stdout",
     "output_type": "stream",
     "text": [
      "\n",
      "Query: What team was Donovan Mitchell traded to?\n",
      "Answers:\n",
      "[   {   'answer': 'Cavaliers',\n",
      "        'context': 'amic, with small-market teams seizing the initiative. On\\n'\n",
      "                   'Thursday, the Cavaliers completed a stealth trade for '\n",
      "                   'Donovan Mitchell, swapping three first-'},\n",
      "    {   'answer': 'Utah',\n",
      "        'context': 'd remains together for years to come, the unprotected '\n",
      "                   'picks\\n'\n",
      "                   'they sent to Utah wouldn’t be as valuable; the Pelicans '\n",
      "                   'probably won’t land any prized pic'},\n",
      "    {   'answer': 'Cleveland',\n",
      "        'context': 'hree teams settled into the play-in\\n'\n",
      "                   'range in the middle of the league.\\n'\n",
      "                   'Cleveland’s hope is clearly for Mitchell, who will '\n",
      "                   'celebrate his 26th birthday '}]\n"
     ]
    },
    {
     "name": "stderr",
     "output_type": "stream",
     "text": [
      "\n"
     ]
    }
   ],
   "source": [
    "# Use a util to simplify printed output\n",
    "from haystack.utils import print_answers\n",
    "\n",
    "queries = {\n",
    "    'robert-sarver-phoenix-suns-suspension.pdf':\n",
    "        'How long is Robert Sarver suspended for?',\n",
    "    'small-market-teams-are-paying-big-prices-to-go-all-in.pdf':\n",
    "        'What team was Donovan Mitchell traded to?',\n",
    "}\n",
    "\n",
    "for doc_name in queries:\n",
    "    documents = [doc for doc in docs if doc.meta['name'] == doc_name]\n",
    "    if not documents:\n",
    "        raise ValueError\n",
    "    query = queries[doc_name]\n",
    "    prediction = run_query(documents, query)\n",
    "\n",
    "    # Change `minimum` to `medium` or `all` to control the level of detail\n",
    "    print_answers(prediction, details=\"minimum\")"
   ]
  }
 ],
 "metadata": {
  "kernelspec": {
   "display_name": "Python 3.10.4 ('haystack')",
   "language": "python",
   "name": "python3"
  },
  "language_info": {
   "codemirror_mode": {
    "name": "ipython",
    "version": 3
   },
   "file_extension": ".py",
   "mimetype": "text/x-python",
   "name": "python",
   "nbconvert_exporter": "python",
   "pygments_lexer": "ipython3",
   "version": "3.10.4"
  },
  "orig_nbformat": 4,
  "vscode": {
   "interpreter": {
    "hash": "940d62372c5d54982f51faf3fcf67622d7e2a5c3a1d7102e4b31a8065a7ab8cd"
   }
  }
 },
 "nbformat": 4,
 "nbformat_minor": 2
}
