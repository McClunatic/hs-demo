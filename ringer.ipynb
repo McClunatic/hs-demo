{
 "cells": [
  {
   "cell_type": "markdown",
   "metadata": {},
   "source": [
    "# Logging\n",
    "\n",
    "We configure how logging messages should be displayed and which log level should be used before importing Haystack. Example log message: INFO - haystack.utils.preprocessing - Converting data/tutorial1/218_Olenna_Tyrell.txt Default log level in basicConfig is WARNING so the explicit parameter is not necessary but can be changed easily:"
   ]
  },
  {
   "cell_type": "code",
   "execution_count": 1,
   "metadata": {},
   "outputs": [],
   "source": [
    "import logging\n",
    "\n",
    "logging.basicConfig(format=\"%(levelname)s - %(name)s -  %(message)s\", level=logging.WARNING)\n",
    "logging.getLogger(\"haystack\").setLevel(logging.INFO)"
   ]
  },
  {
   "cell_type": "markdown",
   "metadata": {},
   "source": [
    "# Building a per-document query function\n",
    "\n",
    "Rather than querying from a large document store, this notebook\n",
    "explores the use case where queries need to be made against a\n",
    "*specific* document. We'll build single-document document stores,\n",
    "and then retrievers, readers, and pipelines as normal."
   ]
  },
  {
   "cell_type": "code",
   "execution_count": 2,
   "metadata": {},
   "outputs": [
    {
     "name": "stderr",
     "output_type": "stream",
     "text": [
      "INFO - haystack.utils.preprocessing -  Converting data\\theringer\\robert-sarver-phoenix-suns-suspension.txt\n",
      "INFO - haystack.utils.preprocessing -  Converting data\\theringer\\small-market-teams-are-paying-big-prices-to-go-all-in.txt\n"
     ]
    }
   ],
   "source": [
    "from haystack.document_stores import InMemoryDocumentStore\n",
    "from haystack.utils import convert_files_to_docs\n",
    "from haystack.nodes import TfidfRetriever\n",
    "from haystack.nodes import FARMReader\n",
    "from haystack.pipelines import ExtractiveQAPipeline\n",
    "\n",
    "doc_dir = 'data/theringer'\n",
    "\n",
    "docs = convert_files_to_docs(dir_path=doc_dir, split_paragraphs=True)"
   ]
  },
  {
   "cell_type": "code",
   "execution_count": 3,
   "metadata": {},
   "outputs": [],
   "source": [
    "def run_query(documents, query, params=None):\n",
    "\n",
    "    # Create in-memory document store\n",
    "    document_store = InMemoryDocumentStore()\n",
    "    document_store.write_documents(documents)\n",
    "\n",
    "    # Create retriever against document store\n",
    "    retriever = TfidfRetriever(document_store=document_store)\n",
    "\n",
    "    # Load a local model or any of the QA models on\n",
    "    # Hugging Face's model hub (https://huggingface.co/models)\n",
    "    reader = FARMReader(model_name_or_path=\"deepset/roberta-base-squad2\", use_gpu=True)\n",
    "\n",
    "    # Construct an extractive QA pipeline and run the query\n",
    "    pipe = ExtractiveQAPipeline(reader, retriever)\n",
    "    return pipe.run(query=query, params=params)"
   ]
  },
  {
   "cell_type": "markdown",
   "metadata": {},
   "source": [
    "# Voilà! Ask questions!"
   ]
  },
  {
   "cell_type": "code",
   "execution_count": 4,
   "metadata": {},
   "outputs": [
    {
     "name": "stderr",
     "output_type": "stream",
     "text": [
      "INFO - haystack.modeling.utils -  Using devices: CUDA:0\n",
      "INFO - haystack.modeling.utils -  Number of GPUs: 1\n",
      "INFO - haystack.nodes.retriever.sparse -  Found 10 candidate paragraphs from 10 docs in DB\n",
      "INFO - haystack.modeling.utils -  Using devices: CUDA:0\n",
      "INFO - haystack.modeling.utils -  Number of GPUs: 1\n",
      "INFO - haystack.modeling.model.language_model -   * LOADING MODEL: 'deepset/roberta-base-squad2' (Roberta)\n",
      "INFO - haystack.modeling.model.language_model -  Auto-detected model language: english\n",
      "INFO - haystack.modeling.model.language_model -  Loaded 'deepset/roberta-base-squad2' (Roberta model) from model hub.\n",
      "INFO - haystack.modeling.utils -  Using devices: CUDA\n",
      "INFO - haystack.modeling.utils -  Number of GPUs: 1\n",
      "INFO - haystack.modeling.infer -  Got ya 15 parallel workers to do inference ...\n",
      "INFO - haystack.modeling.infer -   0     0     0     0     0     0     0     0     0     0     0     0     0     0     0  \n",
      "INFO - haystack.modeling.infer -  /w\\   /w\\   /w\\   /w\\   /w\\   /w\\   /w\\   /|\\   /w\\   /w\\   /w\\   /w\\   /w\\   /w\\   /|\\ \n",
      "INFO - haystack.modeling.infer -  /'\\   / \\   /'\\   /'\\   / \\   / \\   /'\\   /'\\   /'\\   /'\\   /'\\   /'\\   / \\   /'\\   /'\\ \n",
      "Inferencing Samples: 100%|██████████| 1/1 [00:06<00:00,  6.78s/ Batches]\n",
      "Inferencing Samples: 100%|██████████| 1/1 [00:00<00:00,  8.44 Batches/s]\n",
      "Inferencing Samples: 100%|██████████| 1/1 [00:00<00:00, 20.16 Batches/s]\n",
      "Inferencing Samples: 100%|██████████| 1/1 [00:00<00:00, 58.65 Batches/s]\n",
      "Inferencing Samples: 100%|██████████| 1/1 [00:00<00:00, 55.57 Batches/s]\n",
      "Inferencing Samples: 100%|██████████| 1/1 [00:00<00:00, 55.56 Batches/s]\n",
      "Inferencing Samples: 100%|██████████| 1/1 [00:00<00:00, 52.51 Batches/s]\n",
      "Inferencing Samples: 100%|██████████| 1/1 [00:00<00:00, 50.02 Batches/s]\n",
      "Inferencing Samples: 100%|██████████| 1/1 [00:00<00:00, 33.33 Batches/s]\n",
      "Inferencing Samples: 100%|██████████| 1/1 [00:00<00:00, 53.13 Batches/s]\n",
      "INFO - haystack.modeling.utils -  Using devices: CUDA:0\n",
      "INFO - haystack.modeling.utils -  Number of GPUs: 1\n",
      "INFO - haystack.nodes.retriever.sparse -  Found 24 candidate paragraphs from 24 docs in DB\n",
      "INFO - haystack.modeling.utils -  Using devices: CUDA:0\n",
      "INFO - haystack.modeling.utils -  Number of GPUs: 1\n"
     ]
    },
    {
     "name": "stdout",
     "output_type": "stream",
     "text": [
      "\n",
      "Query: How long is Robert Sarver suspended for?\n",
      "Answers:\n",
      "[   {   'answer': 'a year',\n",
      "        'context': 'and former Suns employeesâ€”was to suspend Sarver from NBA '\n",
      "                   'activity for a year, fine him $10 million (a fraction of '\n",
      "                   'his net worth), and require that h'},\n",
      "    {   'answer': 'one-year',\n",
      "        'context': 'A one-year suspension is nothing; a mandated course is '\n",
      "                   'less than that. If the goal of the NBAâ€™s cursory '\n",
      "                   'punishment is to change anything about what '},\n",
      "    {   'answer': 'a year',\n",
      "        'context': 'ated, discriminated against, and mistreated his employees, '\n",
      "                   'and he takes a year hiatus and attends a seminar. The '\n",
      "                   'value in any punishment comes from ei'},\n",
      "    {   'answer': 'a while',\n",
      "        'context': 'today, or about the prospect of taking a job with the team '\n",
      "                   'in the future. The root cause is still there; it just '\n",
      "                   'wonâ€™t be in the office for a while.'},\n",
      "    {   'answer': 'a yearâ€™s time',\n",
      "        'context': 'f capacities, but its partner WNBA franchise in the '\n",
      "                   'Mercury. And in a yearâ€™s time, Sarver, a 60-year-old man '\n",
      "                   'with a decades-long record of workplace'},\n",
      "    {   'answer': '€',\n",
      "        'context': 'The muddled conclusion, per the report: â€œThe '\n",
      "                   'investigation makes no finding that Sarver used this '\n",
      "                   'racially insensitive language with the intent to d'},\n",
      "    {   'answer': '€',\n",
      "        'context': 's the incident with Sarver, the governor called the '\n",
      "                   'witness into a meetingâ€”flanked by an attorneyâ€”to scold '\n",
      "                   'the witness for questioning him. This i'},\n",
      "    {   'answer': 'most of them.',\n",
      "        'context': 'Sarver claimed he didnâ€™t remember most of them.'},\n",
      "    {   'answer': 'Almost a full year',\n",
      "        'context': 'Almost a full year after ESPN published a report detailing '\n",
      "                   'an extensive history of racism, misogyny, and misconduct '\n",
      "                   'in the Phoenix Suns organization, '},\n",
      "    {   'answer': 'four more times in the presence of team employees, '\n",
      "                  'according to the investigation.',\n",
      "        'context': 'hen quoting someone else. He was confirmed to have used it '\n",
      "                   'at least four more times in the presence of team '\n",
      "                   'employees, according to the investigation.'}]\n"
     ]
    },
    {
     "name": "stderr",
     "output_type": "stream",
     "text": [
      "INFO - haystack.modeling.model.language_model -   * LOADING MODEL: 'deepset/roberta-base-squad2' (Roberta)\n",
      "INFO - haystack.modeling.model.language_model -  Auto-detected model language: english\n",
      "INFO - haystack.modeling.model.language_model -  Loaded 'deepset/roberta-base-squad2' (Roberta model) from model hub.\n",
      "INFO - haystack.modeling.utils -  Using devices: CUDA\n",
      "INFO - haystack.modeling.utils -  Number of GPUs: 1\n",
      "INFO - haystack.modeling.infer -  Got ya 15 parallel workers to do inference ...\n",
      "INFO - haystack.modeling.infer -   0     0     0     0     0     0     0     0     0     0     0     0     0     0     0  \n",
      "INFO - haystack.modeling.infer -  /w\\   /w\\   /w\\   /w\\   /w\\   /w\\   /w\\   /|\\   /w\\   /w\\   /w\\   /w\\   /w\\   /w\\   /|\\ \n",
      "INFO - haystack.modeling.infer -  /'\\   / \\   /'\\   /'\\   / \\   / \\   /'\\   /'\\   /'\\   /'\\   /'\\   /'\\   / \\   /'\\   /'\\ \n",
      "Inferencing Samples: 100%|██████████| 1/1 [00:00<00:00,  7.43 Batches/s]\n",
      "Inferencing Samples: 100%|██████████| 1/1 [00:00<00:00, 11.23 Batches/s]\n",
      "Inferencing Samples: 100%|██████████| 1/1 [00:00<00:00, 52.05 Batches/s]\n",
      "Inferencing Samples: 100%|██████████| 1/1 [00:00<00:00, 52.63 Batches/s]\n",
      "Inferencing Samples: 100%|██████████| 1/1 [00:00<00:00, 55.56 Batches/s]\n",
      "Inferencing Samples: 100%|██████████| 1/1 [00:00<00:00, 55.57 Batches/s]\n",
      "Inferencing Samples: 100%|██████████| 1/1 [00:00<00:00, 52.44 Batches/s]\n",
      "Inferencing Samples: 100%|██████████| 1/1 [00:00<00:00, 55.57 Batches/s]\n",
      "Inferencing Samples: 100%|██████████| 1/1 [00:00<00:00, 47.62 Batches/s]\n",
      "Inferencing Samples: 100%|██████████| 1/1 [00:00<00:00, 54.99 Batches/s]\n"
     ]
    },
    {
     "name": "stdout",
     "output_type": "stream",
     "text": [
      "\n",
      "Query: What team was Donovan Mitchell traded to?\n",
      "Answers:\n",
      "[   {   'answer': 'Cavaliers',\n",
      "        'context': 'amic, with small-market teams seizing the initiative. On '\n",
      "                   'Thursday, the Cavaliers completed a stealth trade for '\n",
      "                   'Donovan Mitchell, swapping three first-'},\n",
      "    {   'answer': 'Jazz',\n",
      "        'context': 'f this list shows how trades have evolved over the last '\n",
      "                   'year or two: The Jazz take the top spot because most of '\n",
      "                   'the Thunderâ€™s future stash is protec'},\n",
      "    {   'answer': 'Clevelandâ€™s version of Giannis, itâ€™ll sure be nice to '\n",
      "                  'already have Mitchell on the roster when he does. The '\n",
      "                  'Cavaliers',\n",
      "        'context': 'ley turns into Clevelandâ€™s version of Giannis, itâ€™ll '\n",
      "                   'sure be nice to already have Mitchell on the roster when '\n",
      "                   'he does. The Cavaliers donâ€™t need '},\n",
      "    {   'answer': 'Clippers',\n",
      "        'context': ' the 2010s, this was the norm for blockbuster deals. On '\n",
      "                   'his way to the Clippersâ€”after some meddling from '\n",
      "                   'commissioner David Sternâ€”Chris Paul fetch'},\n",
      "    {   'answer': 'OKC doing is how most teams have to do business these days '\n",
      "                  'when realistically looking at how to build a team,â€ a GM '\n",
      "                  'told ESPN in 2020, soon after the Lakers',\n",
      "        'context': ' OKC doing is how most teams have to do business these '\n",
      "                   'days when realistically looking at how to build a team,â€ '\n",
      "                   'a GM told ESPN in 2020, soon after the Lakers'},\n",
      "    {   'answer': 'Houston',\n",
      "        'context': ' or two, rather than half a decadeâ€™s worth of draft '\n",
      "                   'choices. In 2004, Houston traded for Tracy McGrady, giving '\n",
      "                   'up Steve Francis and two other player'},\n",
      "    {   'answer': 'Bucks',\n",
      "        'context': ' yet close to true Finals contention. Giannis was already '\n",
      "                   'an MVP and the Bucks were already the best regular-season '\n",
      "                   'team in the East before they trade'},\n",
      "    {   'answer': 'Jazz',\n",
      "        'context': 'Future Draft Pick Value Winners and Losers\\n'\n",
      "                   'Team\\tPoints\\n'\n",
      "                   'Jazz\\t16\\n'\n",
      "                   'Thunder\\t12\\n'\n",
      "                   'Spurs\\t8\\n'\n",
      "                   'Rockets\\t7\\n'\n",
      "                   'Pelicans\\t6\\n'\n",
      "                   'Knicks\\t4\\n'\n",
      "                   '...\\t...\\n'\n",
      "                   'Nuggets\\t-3\\n'\n",
      "                   'Lakers\\t-3\\n'\n",
      "                   'Hawks\\t-4\\n'},\n",
      "    {   'answer': 'Lakers',\n",
      "        'context': 'The Lakers traded Brandon Ingram, Lonzo Ball, Josh Hart, '\n",
      "                   'three first-round picks, and a swap option for Anthony '\n",
      "                   'Davis. The Clippers traded Shai-Gilgeo'},\n",
      "    {   'answer': 'Toronto',\n",
      "        'context': 'ut then Leonard helped his new team win the title in his '\n",
      "                   'only season in Toronto, and some combination of LeBron, '\n",
      "                   'Davis, Rich Paul, and Klutch Sports p'}]\n"
     ]
    }
   ],
   "source": [
    "# Use a util to simplify printed output\n",
    "from haystack.utils import print_answers\n",
    "\n",
    "queries = {\n",
    "    'robert-sarver-phoenix-suns-suspension.txt':\n",
    "        'How long is Robert Sarver suspended for?',\n",
    "    'small-market-teams-are-paying-big-prices-to-go-all-in.txt':\n",
    "        'What team was Donovan Mitchell traded to?',\n",
    "}\n",
    "\n",
    "for doc_name in queries:\n",
    "    documents = [doc for doc in docs if doc.meta['name'] == doc_name]\n",
    "    if not documents:\n",
    "        raise ValueError\n",
    "    query = queries[doc_name]\n",
    "    prediction = run_query(documents, query)\n",
    "\n",
    "    # Change `minimum` to `medium` or `all` to control the level of detail\n",
    "    print_answers(prediction, details=\"minimum\")"
   ]
  }
 ],
 "metadata": {
  "kernelspec": {
   "display_name": "Python 3.10.4 ('haystack')",
   "language": "python",
   "name": "python3"
  },
  "language_info": {
   "codemirror_mode": {
    "name": "ipython",
    "version": 3
   },
   "file_extension": ".py",
   "mimetype": "text/x-python",
   "name": "python",
   "nbconvert_exporter": "python",
   "pygments_lexer": "ipython3",
   "version": "3.10.4"
  },
  "orig_nbformat": 4,
  "vscode": {
   "interpreter": {
    "hash": "940d62372c5d54982f51faf3fcf67622d7e2a5c3a1d7102e4b31a8065a7ab8cd"
   }
  }
 },
 "nbformat": 4,
 "nbformat_minor": 2
}
